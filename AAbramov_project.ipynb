{
 "cells": [
  {
   "cell_type": "markdown",
   "id": "78f83e43",
   "metadata": {},
   "source": [
    "### Курсовой проект \"Библиотеки Python для Data Science: Numpy, Matplotlib, Scikit-learn\"\n",
    "### Студент Абрамов А.В."
   ]
  },
  {
   "cell_type": "code",
   "execution_count": 1,
   "id": "50cec4b6",
   "metadata": {
    "ExecuteTime": {
     "end_time": "2022-12-14T18:57:39.002447Z",
     "start_time": "2022-12-14T18:57:37.001798Z"
    }
   },
   "outputs": [],
   "source": [
    "# Импортируем необходимые библиотеки\n",
    "import pandas as pd\n",
    "import numpy as np\n",
    "import seaborn as sns\n",
    "from sklearn.model_selection import train_test_split\n",
    "from sklearn.ensemble import RandomForestRegressor \n",
    "from sklearn import metrics\n",
    "import matplotlib.pyplot as plt\n",
    "import random\n",
    "\n",
    "%matplotlib inline"
   ]
  },
  {
   "cell_type": "code",
   "execution_count": 2,
   "id": "b71456c5",
   "metadata": {
    "ExecuteTime": {
     "end_time": "2022-12-14T18:57:39.048363Z",
     "start_time": "2022-12-14T18:57:39.002447Z"
    }
   },
   "outputs": [],
   "source": [
    "# Формируем датафреймы\n",
    "train = pd.read_csv('train.csv')\n",
    "test = pd.read_csv('test.csv')"
   ]
  },
  {
   "cell_type": "code",
   "execution_count": 3,
   "id": "67866dca",
   "metadata": {
    "ExecuteTime": {
     "end_time": "2022-12-14T18:57:39.080379Z",
     "start_time": "2022-12-14T18:57:39.049361Z"
    }
   },
   "outputs": [
    {
     "name": "stdout",
     "output_type": "stream",
     "text": [
      "<class 'pandas.core.frame.DataFrame'>\n",
      "RangeIndex: 10000 entries, 0 to 9999\n",
      "Data columns (total 20 columns):\n",
      " #   Column         Non-Null Count  Dtype  \n",
      "---  ------         --------------  -----  \n",
      " 0   Id             10000 non-null  int64  \n",
      " 1   DistrictId     10000 non-null  int64  \n",
      " 2   Rooms          10000 non-null  float64\n",
      " 3   Square         10000 non-null  float64\n",
      " 4   LifeSquare     7887 non-null   float64\n",
      " 5   KitchenSquare  10000 non-null  float64\n",
      " 6   Floor          10000 non-null  int64  \n",
      " 7   HouseFloor     10000 non-null  float64\n",
      " 8   HouseYear      10000 non-null  int64  \n",
      " 9   Ecology_1      10000 non-null  float64\n",
      " 10  Ecology_2      10000 non-null  object \n",
      " 11  Ecology_3      10000 non-null  object \n",
      " 12  Social_1       10000 non-null  int64  \n",
      " 13  Social_2       10000 non-null  int64  \n",
      " 14  Social_3       10000 non-null  int64  \n",
      " 15  Healthcare_1   5202 non-null   float64\n",
      " 16  Helthcare_2    10000 non-null  int64  \n",
      " 17  Shops_1        10000 non-null  int64  \n",
      " 18  Shops_2        10000 non-null  object \n",
      " 19  Price          10000 non-null  float64\n",
      "dtypes: float64(8), int64(9), object(3)\n",
      "memory usage: 1.5+ MB\n"
     ]
    }
   ],
   "source": [
    "train.info()"
   ]
  },
  {
   "cell_type": "markdown",
   "id": "60bec9c1",
   "metadata": {},
   "source": [
    "Замечаем, что признак Healthcare_1 в более половины строк имеет значение NaN => его можно дропнуть.\n",
    "Что касается признака LifeSquare, имеющего значение NaN в около четверти строк, то проверим его корреляцию с близкими признаками. В случае высокой взаимной корреляции с каким-либо из них, признак LifeSquare можно дропнуть."
   ]
  },
  {
   "cell_type": "code",
   "execution_count": 4,
   "id": "21942d30",
   "metadata": {
    "ExecuteTime": {
     "end_time": "2022-12-14T18:57:39.096211Z",
     "start_time": "2022-12-14T18:57:39.082356Z"
    }
   },
   "outputs": [],
   "source": [
    "train.drop(['Healthcare_1'], axis=1, inplace=True)"
   ]
  },
  {
   "cell_type": "code",
   "execution_count": 5,
   "id": "fee0a301",
   "metadata": {
    "ExecuteTime": {
     "end_time": "2022-12-14T18:57:39.302567Z",
     "start_time": "2022-12-14T18:57:39.097210Z"
    }
   },
   "outputs": [
    {
     "data": {
      "image/png": "[encoded data removed]",
      "text/plain": [
       "<Figure size 432x288 with 2 Axes>"
      ]
     },
     "metadata": {
      "needs_background": "light"
     },
     "output_type": "display_data"
    }
   ],
   "source": [
    "# Построим тепловую карту таблицы корелляции признаков LifeSquare, KitchenSquare, Rooms, Squre\n",
    "square_check = pd.DataFrame({'LifeSquare': train['LifeSquare'], \n",
    "                             'KitchenSquare': train['KitchenSquare'],\n",
    "                             'Rooms': train['Rooms'],\n",
    "                             'Squre': train['Square']})\n",
    "sns.heatmap(square_check.corr(), annot=True, linewidths=0.5, cmap='GnBu')\n",
    "plt.show()"
   ]
  },
  {
   "cell_type": "markdown",
   "id": "51e2f2e6",
   "metadata": {},
   "source": [
    "Видно, что признак LifeSquare слабо коррелирует с остальными. Поэтому заменим все его значения NaN на медианное значение"
   ]
  },
  {
   "cell_type": "code",
   "execution_count": 6,
   "id": "4caa77f8",
   "metadata": {
    "ExecuteTime": {
     "end_time": "2022-12-14T18:57:39.318414Z",
     "start_time": "2022-12-14T18:57:39.303565Z"
    }
   },
   "outputs": [],
   "source": [
    "train.fillna(train['LifeSquare'].median(), inplace=True)"
   ]
  },
  {
   "cell_type": "code",
   "execution_count": 7,
   "id": "2ff5224b",
   "metadata": {
    "ExecuteTime": {
     "end_time": "2022-12-14T18:57:39.334411Z",
     "start_time": "2022-12-14T18:57:39.319411Z"
    }
   },
   "outputs": [],
   "source": [
    "train['Id'] = train['Id'].astype(str)\n",
    "train['DistrictId'] = train['DistrictId'].astype(str)"
   ]
  },
  {
   "cell_type": "code",
   "execution_count": 8,
   "id": "14d6b987",
   "metadata": {
    "ExecuteTime": {
     "end_time": "2022-12-14T18:57:39.381256Z",
     "start_time": "2022-12-14T18:57:39.335404Z"
    }
   },
   "outputs": [
    {
     "data": {
      "text/html": [
       "<div>\n",
       "<style scoped>\n",
       "    .dataframe tbody tr th:only-of-type {\n",
       "        vertical-align: middle;\n",
       "    }\n",
       "\n",
       "    .dataframe tbody tr th {\n",
       "        vertical-align: top;\n",
       "    }\n",
       "\n",
       "    .dataframe thead th {\n",
       "        text-align: right;\n",
       "    }\n",
       "</style>\n",
       "<table border=\"1\" class=\"dataframe\">\n",
       "  <thead>\n",
       "    <tr style=\"text-align: right;\">\n",
       "      <th></th>\n",
       "      <th>Rooms</th>\n",
       "      <th>Square</th>\n",
       "      <th>LifeSquare</th>\n",
       "      <th>KitchenSquare</th>\n",
       "      <th>Floor</th>\n",
       "      <th>HouseFloor</th>\n",
       "      <th>HouseYear</th>\n",
       "      <th>Ecology_1</th>\n",
       "      <th>Social_1</th>\n",
       "      <th>Social_2</th>\n",
       "      <th>Social_3</th>\n",
       "      <th>Helthcare_2</th>\n",
       "      <th>Shops_1</th>\n",
       "      <th>Price</th>\n",
       "    </tr>\n",
       "  </thead>\n",
       "  <tbody>\n",
       "    <tr>\n",
       "      <th>count</th>\n",
       "      <td>10000.000000</td>\n",
       "      <td>10000.000000</td>\n",
       "      <td>10000.000000</td>\n",
       "      <td>10000.000000</td>\n",
       "      <td>10000.000000</td>\n",
       "      <td>10000.000000</td>\n",
       "      <td>1.000000e+04</td>\n",
       "      <td>10000.000000</td>\n",
       "      <td>10000.000000</td>\n",
       "      <td>10000.000000</td>\n",
       "      <td>10000.000000</td>\n",
       "      <td>10000.000000</td>\n",
       "      <td>10000.000000</td>\n",
       "      <td>10000.000000</td>\n",
       "    </tr>\n",
       "    <tr>\n",
       "      <th>mean</th>\n",
       "      <td>1.890500</td>\n",
       "      <td>56.315775</td>\n",
       "      <td>36.266040</td>\n",
       "      <td>6.273300</td>\n",
       "      <td>8.526700</td>\n",
       "      <td>12.609400</td>\n",
       "      <td>3.990166e+03</td>\n",
       "      <td>0.118858</td>\n",
       "      <td>24.687000</td>\n",
       "      <td>5352.157400</td>\n",
       "      <td>8.039200</td>\n",
       "      <td>1.319500</td>\n",
       "      <td>4.231300</td>\n",
       "      <td>214138.857399</td>\n",
       "    </tr>\n",
       "    <tr>\n",
       "      <th>std</th>\n",
       "      <td>0.839512</td>\n",
       "      <td>21.058732</td>\n",
       "      <td>76.609981</td>\n",
       "      <td>28.560917</td>\n",
       "      <td>5.241148</td>\n",
       "      <td>6.775974</td>\n",
       "      <td>2.005003e+05</td>\n",
       "      <td>0.119025</td>\n",
       "      <td>17.532614</td>\n",
       "      <td>4006.799803</td>\n",
       "      <td>23.831875</td>\n",
       "      <td>1.493601</td>\n",
       "      <td>4.806341</td>\n",
       "      <td>92872.293865</td>\n",
       "    </tr>\n",
       "    <tr>\n",
       "      <th>min</th>\n",
       "      <td>0.000000</td>\n",
       "      <td>1.136859</td>\n",
       "      <td>0.370619</td>\n",
       "      <td>0.000000</td>\n",
       "      <td>1.000000</td>\n",
       "      <td>0.000000</td>\n",
       "      <td>1.910000e+03</td>\n",
       "      <td>0.000000</td>\n",
       "      <td>0.000000</td>\n",
       "      <td>168.000000</td>\n",
       "      <td>0.000000</td>\n",
       "      <td>0.000000</td>\n",
       "      <td>0.000000</td>\n",
       "      <td>59174.778028</td>\n",
       "    </tr>\n",
       "    <tr>\n",
       "      <th>25%</th>\n",
       "      <td>1.000000</td>\n",
       "      <td>41.774881</td>\n",
       "      <td>25.527399</td>\n",
       "      <td>1.000000</td>\n",
       "      <td>4.000000</td>\n",
       "      <td>9.000000</td>\n",
       "      <td>1.974000e+03</td>\n",
       "      <td>0.017647</td>\n",
       "      <td>6.000000</td>\n",
       "      <td>1564.000000</td>\n",
       "      <td>0.000000</td>\n",
       "      <td>0.000000</td>\n",
       "      <td>1.000000</td>\n",
       "      <td>153872.633942</td>\n",
       "    </tr>\n",
       "    <tr>\n",
       "      <th>50%</th>\n",
       "      <td>2.000000</td>\n",
       "      <td>52.513310</td>\n",
       "      <td>32.781260</td>\n",
       "      <td>6.000000</td>\n",
       "      <td>7.000000</td>\n",
       "      <td>13.000000</td>\n",
       "      <td>1.977000e+03</td>\n",
       "      <td>0.075424</td>\n",
       "      <td>25.000000</td>\n",
       "      <td>5285.000000</td>\n",
       "      <td>2.000000</td>\n",
       "      <td>1.000000</td>\n",
       "      <td>3.000000</td>\n",
       "      <td>192269.644879</td>\n",
       "    </tr>\n",
       "    <tr>\n",
       "      <th>75%</th>\n",
       "      <td>2.000000</td>\n",
       "      <td>65.900625</td>\n",
       "      <td>41.427234</td>\n",
       "      <td>9.000000</td>\n",
       "      <td>12.000000</td>\n",
       "      <td>17.000000</td>\n",
       "      <td>2.001000e+03</td>\n",
       "      <td>0.195781</td>\n",
       "      <td>36.000000</td>\n",
       "      <td>7227.000000</td>\n",
       "      <td>5.000000</td>\n",
       "      <td>2.000000</td>\n",
       "      <td>6.000000</td>\n",
       "      <td>249135.462171</td>\n",
       "    </tr>\n",
       "    <tr>\n",
       "      <th>max</th>\n",
       "      <td>19.000000</td>\n",
       "      <td>641.065193</td>\n",
       "      <td>7480.592129</td>\n",
       "      <td>2014.000000</td>\n",
       "      <td>42.000000</td>\n",
       "      <td>117.000000</td>\n",
       "      <td>2.005201e+07</td>\n",
       "      <td>0.521867</td>\n",
       "      <td>74.000000</td>\n",
       "      <td>19083.000000</td>\n",
       "      <td>141.000000</td>\n",
       "      <td>6.000000</td>\n",
       "      <td>23.000000</td>\n",
       "      <td>633233.466570</td>\n",
       "    </tr>\n",
       "  </tbody>\n",
       "</table>\n",
       "</div>"
      ],
      "text/plain": [
       "              Rooms        Square    LifeSquare  KitchenSquare         Floor  \\\n",
       "count  10000.000000  10000.000000  10000.000000   10000.000000  10000.000000   \n",
       "mean       1.890500     56.315775     36.266040       6.273300      8.526700   \n",
       "std        0.839512     21.058732     76.609981      28.560917      5.241148   \n",
       "min        0.000000      1.136859      0.370619       0.000000      1.000000   \n",
       "25%        1.000000     41.774881     25.527399       1.000000      4.000000   \n",
       "50%        2.000000     52.513310     32.781260       6.000000      7.000000   \n",
       "75%        2.000000     65.900625     41.427234       9.000000     12.000000   \n",
       "max       19.000000    641.065193   7480.592129    2014.000000     42.000000   \n",
       "\n",
       "         HouseFloor     HouseYear     Ecology_1      Social_1      Social_2  \\\n",
       "count  10000.000000  1.000000e+04  10000.000000  10000.000000  10000.000000   \n",
       "mean      12.609400  3.990166e+03      0.118858     24.687000   5352.157400   \n",
       "std        6.775974  2.005003e+05      0.119025     17.532614   4006.799803   \n",
       "min        0.000000  1.910000e+03      0.000000      0.000000    168.000000   \n",
       "25%        9.000000  1.974000e+03      0.017647      6.000000   1564.000000   \n",
       "50%       13.000000  1.977000e+03      0.075424     25.000000   5285.000000   \n",
       "75%       17.000000  2.001000e+03      0.195781     36.000000   7227.000000   \n",
       "max      117.000000  2.005201e+07      0.521867     74.000000  19083.000000   \n",
       "\n",
       "           Social_3   Helthcare_2       Shops_1          Price  \n",
       "count  10000.000000  10000.000000  10000.000000   10000.000000  \n",
       "mean       8.039200      1.319500      4.231300  214138.857399  \n",
       "std       23.831875      1.493601      4.806341   92872.293865  \n",
       "min        0.000000      0.000000      0.000000   59174.778028  \n",
       "25%        0.000000      0.000000      1.000000  153872.633942  \n",
       "50%        2.000000      1.000000      3.000000  192269.644879  \n",
       "75%        5.000000      2.000000      6.000000  249135.462171  \n",
       "max      141.000000      6.000000     23.000000  633233.466570  "
      ]
     },
     "execution_count": 8,
     "metadata": {},
     "output_type": "execute_result"
    }
   ],
   "source": [
    "# Проанализируем, какие значения встречаются по каждому признаку\n",
    "train.describe()"
   ]
  },
  {
   "cell_type": "code",
   "execution_count": 9,
   "id": "ae91e6cc",
   "metadata": {
    "ExecuteTime": {
     "end_time": "2022-12-14T18:57:39.397353Z",
     "start_time": "2022-12-14T18:57:39.382229Z"
    }
   },
   "outputs": [
    {
     "data": {
      "text/plain": [
       "2.0     3880\n",
       "1.0     3705\n",
       "3.0     2235\n",
       "4.0      150\n",
       "5.0       18\n",
       "0.0        8\n",
       "10.0       2\n",
       "19.0       1\n",
       "6.0        1\n",
       "Name: Rooms, dtype: int64"
      ]
     },
     "execution_count": 9,
     "metadata": {},
     "output_type": "execute_result"
    }
   ],
   "source": [
    "# Просмотрим какие значения и как часто встречаются в столбце Rooms\n",
    "train['Rooms'].value_counts()"
   ]
  },
  {
   "cell_type": "code",
   "execution_count": 10,
   "id": "d05c8168",
   "metadata": {
    "ExecuteTime": {
     "end_time": "2022-12-14T18:57:39.413428Z",
     "start_time": "2022-12-14T18:57:39.399323Z"
    }
   },
   "outputs": [],
   "source": [
    "# Заменим аномальные значения кол-ва комнат на медианное значение\n",
    "train.loc[train['Rooms'].isin([0, 10, 19]), 'Rooms'] = train['Rooms'].median() "
   ]
  },
  {
   "cell_type": "code",
   "execution_count": 11,
   "id": "21817ab3",
   "metadata": {
    "ExecuteTime": {
     "end_time": "2022-12-14T18:57:39.429087Z",
     "start_time": "2022-12-14T18:57:39.414427Z"
    }
   },
   "outputs": [
    {
     "data": {
      "text/plain": [
       "1497    20052011\n",
       "4189        4968\n",
       "5701        2020\n",
       "2493        2020\n",
       "1499        2020\n",
       "          ...   \n",
       "7611        1916\n",
       "910         1914\n",
       "2656        1912\n",
       "5111        1912\n",
       "9317        1910\n",
       "Name: HouseYear, Length: 10000, dtype: int64"
      ]
     },
     "execution_count": 11,
     "metadata": {},
     "output_type": "execute_result"
    }
   ],
   "source": [
    "# Видно, что 2 наибольших значения поля HouseYear - это выбросы (похоже, ошибки ввода), а наибольший год постройки - 2020 \n",
    "train['HouseYear'].sort_values(ascending=False)"
   ]
  },
  {
   "cell_type": "code",
   "execution_count": 12,
   "id": "d4c3d294",
   "metadata": {
    "ExecuteTime": {
     "end_time": "2022-12-14T18:57:39.444398Z",
     "start_time": "2022-12-14T18:57:39.430085Z"
    }
   },
   "outputs": [],
   "source": [
    "# Удаляем строки со значениями поля HouseYear больше 2020\n",
    "train = train[train['HouseYear'] <= 2020]"
   ]
  },
  {
   "cell_type": "code",
   "execution_count": 13,
   "id": "744eeb44",
   "metadata": {
    "ExecuteTime": {
     "end_time": "2022-12-14T18:57:39.459488Z",
     "start_time": "2022-12-14T18:57:39.445399Z"
    }
   },
   "outputs": [
    {
     "data": {
      "text/plain": [
       "1499    2020\n",
       "4493    2020\n",
       "2877    2020\n",
       "6735    2020\n",
       "585     2020\n",
       "        ... \n",
       "7611    1916\n",
       "910     1914\n",
       "2656    1912\n",
       "5111    1912\n",
       "9317    1910\n",
       "Name: HouseYear, Length: 9998, dtype: int64"
      ]
     },
     "execution_count": 13,
     "metadata": {},
     "output_type": "execute_result"
    }
   ],
   "source": [
    "train['HouseYear'].sort_values(ascending=False)"
   ]
  },
  {
   "cell_type": "markdown",
   "id": "b2d7bdb1",
   "metadata": {},
   "source": [
    "Преобразуем категориальные признаки:"
   ]
  },
  {
   "cell_type": "code",
   "execution_count": 14,
   "id": "0691e31b",
   "metadata": {
    "ExecuteTime": {
     "end_time": "2022-12-14T18:57:39.474728Z",
     "start_time": "2022-12-14T18:57:39.460513Z"
    }
   },
   "outputs": [],
   "source": [
    "train['Ecology_2_bin'] = train['Ecology_2'].replace({'A':0, 'B':1})\n",
    "train['Ecology_3_bin'] = train['Ecology_3'].replace({'A':0, 'B':1})\n",
    "train['Shops_2_bin'] = train['Shops_2'].replace({'A':0, 'B':1})"
   ]
  },
  {
   "cell_type": "code",
   "execution_count": 15,
   "id": "3dd2ab81",
   "metadata": {
    "ExecuteTime": {
     "end_time": "2022-12-14T18:57:39.490521Z",
     "start_time": "2022-12-14T18:57:39.475691Z"
    }
   },
   "outputs": [],
   "source": [
    "# Определяем перечень признаков для обучения модели и целевой столбец:\n",
    "features = ['DistrictId', 'Rooms', 'Square', 'LifeSquare', 'KitchenSquare', 'Floor', 'HouseFloor', 'Ecology_1', \n",
    "                 'Ecology_2_bin', 'Ecology_3_bin', 'Social_1', 'Social_2', 'Social_3', 'Helthcare_2','Shops_1', 'Shops_2_bin']\n",
    "target = 'Price'"
   ]
  },
  {
   "cell_type": "code",
   "execution_count": 16,
   "id": "f4042a17",
   "metadata": {
    "ExecuteTime": {
     "end_time": "2022-12-14T18:57:39.505672Z",
     "start_time": "2022-12-14T18:57:39.490817Z"
    }
   },
   "outputs": [],
   "source": [
    "# Формируем из train датафреймы с признаками и целевой переменной\n",
    "X = train[features]\n",
    "y = train[target]"
   ]
  },
  {
   "cell_type": "code",
   "execution_count": 17,
   "id": "ad0038d8",
   "metadata": {
    "ExecuteTime": {
     "end_time": "2022-12-14T18:57:39.520741Z",
     "start_time": "2022-12-14T18:57:39.506672Z"
    }
   },
   "outputs": [],
   "source": [
    "# Разделяем X и y на тренировочные и тестовые датафреймы\n",
    "X_train, X_test, y_train, y_test = train_test_split(X, y, test_size=0.3, random_state=55)"
   ]
  },
  {
   "cell_type": "code",
   "execution_count": 18,
   "id": "bd05a667",
   "metadata": {
    "ExecuteTime": {
     "end_time": "2022-12-14T18:57:42.359729Z",
     "start_time": "2022-12-14T18:57:39.521740Z"
    }
   },
   "outputs": [
    {
     "data": {
      "text/plain": [
       "RandomForestRegressor(random_state=55)"
      ]
     },
     "execution_count": 18,
     "metadata": {},
     "output_type": "execute_result"
    }
   ],
   "source": [
    "# Формируем и обучаем модель Регрессии Случайным Лесом  \n",
    "model = RandomForestRegressor(random_state=55)\n",
    "model.fit(X_train, y_train)"
   ]
  },
  {
   "cell_type": "code",
   "execution_count": 19,
   "id": "b1b1a117",
   "metadata": {
    "ExecuteTime": {
     "end_time": "2022-12-14T18:57:42.563408Z",
     "start_time": "2022-12-14T18:57:42.360381Z"
    }
   },
   "outputs": [],
   "source": [
    "# Предсказываем тренировочные и тестовые целевые значения\n",
    "y_train_pred = model.predict(X_train)\n",
    "y_test_pred = model.predict(X_test)"
   ]
  },
  {
   "cell_type": "code",
   "execution_count": 20,
   "id": "b3d67601",
   "metadata": {
    "ExecuteTime": {
     "end_time": "2022-12-14T18:57:42.578447Z",
     "start_time": "2022-12-14T18:57:42.564433Z"
    }
   },
   "outputs": [
    {
     "name": "stdout",
     "output_type": "stream",
     "text": [
      "r2_train=0.9615\n"
     ]
    }
   ],
   "source": [
    "# Выводим значения коэффициента детерминации R2\n",
    "r2_train = metrics.r2_score(y_train, y_train_pred).round(4)\n",
    "print(f'{r2_train=}')"
   ]
  },
  {
   "cell_type": "code",
   "execution_count": 21,
   "id": "dbbc16f2",
   "metadata": {
    "ExecuteTime": {
     "end_time": "2022-12-14T18:57:42.593656Z",
     "start_time": "2022-12-14T18:57:42.579444Z"
    }
   },
   "outputs": [
    {
     "name": "stdout",
     "output_type": "stream",
     "text": [
      "r2_test=0.7242\n"
     ]
    }
   ],
   "source": [
    "r2_test = metrics.r2_score(y_test, y_test_pred).round(4)\n",
    "print(f'{r2_test=}')"
   ]
  },
  {
   "cell_type": "markdown",
   "id": "2f3f4ace",
   "metadata": {},
   "source": [
    "Теперь готовим тестовый датасет test к предсказанию. Повторяем для него все этапы подготовки, что и для train "
   ]
  },
  {
   "cell_type": "code",
   "execution_count": 22,
   "id": "4d34afea",
   "metadata": {
    "ExecuteTime": {
     "end_time": "2022-12-14T18:57:42.608835Z",
     "start_time": "2022-12-14T18:57:42.594625Z"
    }
   },
   "outputs": [],
   "source": [
    "test.drop(['Healthcare_1'], axis=1, inplace=True)\n",
    "test.fillna(train['LifeSquare'].median(), inplace=True)"
   ]
  },
  {
   "cell_type": "code",
   "execution_count": 23,
   "id": "f66d4890",
   "metadata": {
    "ExecuteTime": {
     "end_time": "2022-12-14T18:57:42.624460Z",
     "start_time": "2022-12-14T18:57:42.609835Z"
    }
   },
   "outputs": [
    {
     "data": {
      "text/plain": [
       "2.0     2030\n",
       "1.0     1769\n",
       "3.0     1099\n",
       "4.0       90\n",
       "5.0        7\n",
       "6.0        2\n",
       "0.0        2\n",
       "17.0       1\n",
       "Name: Rooms, dtype: int64"
      ]
     },
     "execution_count": 23,
     "metadata": {},
     "output_type": "execute_result"
    }
   ],
   "source": [
    "test['Rooms'].value_counts()"
   ]
  },
  {
   "cell_type": "code",
   "execution_count": 24,
   "id": "5fbe7f6a",
   "metadata": {
    "ExecuteTime": {
     "end_time": "2022-12-14T18:57:42.639737Z",
     "start_time": "2022-12-14T18:57:42.625028Z"
    }
   },
   "outputs": [],
   "source": [
    "# в Rooms аналогично заменяем аномальные значения 0 и 17 на медиану:\n",
    "test.loc[test['Rooms'].isin([0, 17]), 'Rooms'] = test['Rooms'].median() "
   ]
  },
  {
   "cell_type": "code",
   "execution_count": 25,
   "id": "397d0117",
   "metadata": {
    "ExecuteTime": {
     "end_time": "2022-12-14T18:57:42.655694Z",
     "start_time": "2022-12-14T18:57:42.640734Z"
    },
    "scrolled": true
   },
   "outputs": [
    {
     "data": {
      "text/html": [
       "<div>\n",
       "<style scoped>\n",
       "    .dataframe tbody tr th:only-of-type {\n",
       "        vertical-align: middle;\n",
       "    }\n",
       "\n",
       "    .dataframe tbody tr th {\n",
       "        vertical-align: top;\n",
       "    }\n",
       "\n",
       "    .dataframe thead th {\n",
       "        text-align: right;\n",
       "    }\n",
       "</style>\n",
       "<table border=\"1\" class=\"dataframe\">\n",
       "  <thead>\n",
       "    <tr style=\"text-align: right;\">\n",
       "      <th></th>\n",
       "      <th>Id</th>\n",
       "      <th>DistrictId</th>\n",
       "      <th>Rooms</th>\n",
       "      <th>Square</th>\n",
       "      <th>LifeSquare</th>\n",
       "      <th>KitchenSquare</th>\n",
       "      <th>Floor</th>\n",
       "      <th>HouseFloor</th>\n",
       "      <th>HouseYear</th>\n",
       "      <th>Ecology_1</th>\n",
       "      <th>Ecology_2</th>\n",
       "      <th>Ecology_3</th>\n",
       "      <th>Social_1</th>\n",
       "      <th>Social_2</th>\n",
       "      <th>Social_3</th>\n",
       "      <th>Helthcare_2</th>\n",
       "      <th>Shops_1</th>\n",
       "      <th>Shops_2</th>\n",
       "    </tr>\n",
       "  </thead>\n",
       "  <tbody>\n",
       "    <tr>\n",
       "      <th>0</th>\n",
       "      <td>725</td>\n",
       "      <td>58</td>\n",
       "      <td>2.0</td>\n",
       "      <td>49.882643</td>\n",
       "      <td>33.432782</td>\n",
       "      <td>6.0</td>\n",
       "      <td>6</td>\n",
       "      <td>14.0</td>\n",
       "      <td>1972</td>\n",
       "      <td>0.310199</td>\n",
       "      <td>B</td>\n",
       "      <td>B</td>\n",
       "      <td>11</td>\n",
       "      <td>2748</td>\n",
       "      <td>1</td>\n",
       "      <td>0</td>\n",
       "      <td>0</td>\n",
       "      <td>B</td>\n",
       "    </tr>\n",
       "    <tr>\n",
       "      <th>1</th>\n",
       "      <td>15856</td>\n",
       "      <td>74</td>\n",
       "      <td>2.0</td>\n",
       "      <td>69.263183</td>\n",
       "      <td>32.781260</td>\n",
       "      <td>1.0</td>\n",
       "      <td>6</td>\n",
       "      <td>1.0</td>\n",
       "      <td>1977</td>\n",
       "      <td>0.075779</td>\n",
       "      <td>B</td>\n",
       "      <td>B</td>\n",
       "      <td>6</td>\n",
       "      <td>1437</td>\n",
       "      <td>3</td>\n",
       "      <td>0</td>\n",
       "      <td>2</td>\n",
       "      <td>B</td>\n",
       "    </tr>\n",
       "    <tr>\n",
       "      <th>2</th>\n",
       "      <td>5480</td>\n",
       "      <td>190</td>\n",
       "      <td>1.0</td>\n",
       "      <td>13.597819</td>\n",
       "      <td>15.948246</td>\n",
       "      <td>12.0</td>\n",
       "      <td>2</td>\n",
       "      <td>5.0</td>\n",
       "      <td>1909</td>\n",
       "      <td>0.000000</td>\n",
       "      <td>B</td>\n",
       "      <td>B</td>\n",
       "      <td>30</td>\n",
       "      <td>7538</td>\n",
       "      <td>87</td>\n",
       "      <td>5</td>\n",
       "      <td>5</td>\n",
       "      <td>B</td>\n",
       "    </tr>\n",
       "    <tr>\n",
       "      <th>3</th>\n",
       "      <td>15664</td>\n",
       "      <td>47</td>\n",
       "      <td>2.0</td>\n",
       "      <td>73.046609</td>\n",
       "      <td>51.940842</td>\n",
       "      <td>9.0</td>\n",
       "      <td>22</td>\n",
       "      <td>22.0</td>\n",
       "      <td>2007</td>\n",
       "      <td>0.101872</td>\n",
       "      <td>B</td>\n",
       "      <td>B</td>\n",
       "      <td>23</td>\n",
       "      <td>4583</td>\n",
       "      <td>3</td>\n",
       "      <td>3</td>\n",
       "      <td>3</td>\n",
       "      <td>B</td>\n",
       "    </tr>\n",
       "    <tr>\n",
       "      <th>4</th>\n",
       "      <td>14275</td>\n",
       "      <td>27</td>\n",
       "      <td>1.0</td>\n",
       "      <td>47.527111</td>\n",
       "      <td>43.387569</td>\n",
       "      <td>1.0</td>\n",
       "      <td>17</td>\n",
       "      <td>17.0</td>\n",
       "      <td>2017</td>\n",
       "      <td>0.072158</td>\n",
       "      <td>B</td>\n",
       "      <td>B</td>\n",
       "      <td>2</td>\n",
       "      <td>629</td>\n",
       "      <td>1</td>\n",
       "      <td>0</td>\n",
       "      <td>0</td>\n",
       "      <td>A</td>\n",
       "    </tr>\n",
       "  </tbody>\n",
       "</table>\n",
       "</div>"
      ],
      "text/plain": [
       "      Id  DistrictId  Rooms     Square  LifeSquare  KitchenSquare  Floor  \\\n",
       "0    725          58    2.0  49.882643   33.432782            6.0      6   \n",
       "1  15856          74    2.0  69.263183   32.781260            1.0      6   \n",
       "2   5480         190    1.0  13.597819   15.948246           12.0      2   \n",
       "3  15664          47    2.0  73.046609   51.940842            9.0     22   \n",
       "4  14275          27    1.0  47.527111   43.387569            1.0     17   \n",
       "\n",
       "   HouseFloor  HouseYear  Ecology_1 Ecology_2 Ecology_3  Social_1  Social_2  \\\n",
       "0        14.0       1972   0.310199         B         B        11      2748   \n",
       "1         1.0       1977   0.075779         B         B         6      1437   \n",
       "2         5.0       1909   0.000000         B         B        30      7538   \n",
       "3        22.0       2007   0.101872         B         B        23      4583   \n",
       "4        17.0       2017   0.072158         B         B         2       629   \n",
       "\n",
       "   Social_3  Helthcare_2  Shops_1 Shops_2  \n",
       "0         1            0        0       B  \n",
       "1         3            0        2       B  \n",
       "2        87            5        5       B  \n",
       "3         3            3        3       B  \n",
       "4         1            0        0       A  "
      ]
     },
     "execution_count": 25,
     "metadata": {},
     "output_type": "execute_result"
    }
   ],
   "source": [
    "test.head()"
   ]
  },
  {
   "cell_type": "code",
   "execution_count": 26,
   "id": "9908b52a",
   "metadata": {
    "ExecuteTime": {
     "end_time": "2022-12-14T18:57:42.671652Z",
     "start_time": "2022-12-14T18:57:42.656691Z"
    }
   },
   "outputs": [
    {
     "data": {
      "text/plain": [
       "385     2020\n",
       "888     2020\n",
       "4273    2020\n",
       "1275    2020\n",
       "3382    2020\n",
       "        ... \n",
       "1475    1912\n",
       "64      1911\n",
       "2691    1910\n",
       "2       1909\n",
       "3253    1908\n",
       "Name: HouseYear, Length: 5000, dtype: int64"
      ]
     },
     "execution_count": 26,
     "metadata": {},
     "output_type": "execute_result"
    }
   ],
   "source": [
    "test['HouseYear'].sort_values(ascending=False) # в Year у тестового датасета выбросов не отмечено"
   ]
  },
  {
   "cell_type": "code",
   "execution_count": 27,
   "id": "6132be46",
   "metadata": {
    "ExecuteTime": {
     "end_time": "2022-12-14T18:57:42.687498Z",
     "start_time": "2022-12-14T18:57:42.672649Z"
    }
   },
   "outputs": [],
   "source": [
    "test['Ecology_2_bin'] = test['Ecology_2'].replace({'A':0, 'B':1})\n",
    "test['Ecology_3_bin'] = test['Ecology_3'].replace({'A':0, 'B':1})\n",
    "test['Shops_2_bin'] = test['Shops_2'].replace({'A':0, 'B':1})"
   ]
  },
  {
   "cell_type": "code",
   "execution_count": 28,
   "id": "4ab049d4",
   "metadata": {
    "ExecuteTime": {
     "end_time": "2022-12-14T18:57:42.703266Z",
     "start_time": "2022-12-14T18:57:42.690491Z"
    },
    "scrolled": true
   },
   "outputs": [],
   "source": [
    "X_valid = test[features]"
   ]
  },
  {
   "cell_type": "code",
   "execution_count": 29,
   "id": "0ebac074",
   "metadata": {
    "ExecuteTime": {
     "end_time": "2022-12-14T18:57:42.813766Z",
     "start_time": "2022-12-14T18:57:42.704264Z"
    }
   },
   "outputs": [],
   "source": [
    "# Получаем предсказанные значения целевой переменной от данных в задании значений признаков\n",
    "y_valid_pred = model.predict(X_valid)"
   ]
  },
  {
   "cell_type": "code",
   "execution_count": 30,
   "id": "fa81d487",
   "metadata": {
    "ExecuteTime": {
     "end_time": "2022-12-14T18:57:42.829846Z",
     "start_time": "2022-12-14T18:57:42.814689Z"
    }
   },
   "outputs": [],
   "source": [
    "predictions = pd.DataFrame({'Id':test['Id'], 'Price':y_valid_pred})"
   ]
  },
  {
   "cell_type": "code",
   "execution_count": 31,
   "id": "17d7c77b",
   "metadata": {
    "ExecuteTime": {
     "end_time": "2022-12-14T18:57:42.844207Z",
     "start_time": "2022-12-14T18:57:42.830845Z"
    }
   },
   "outputs": [
    {
     "data": {
      "text/html": [
       "<div>\n",
       "<style scoped>\n",
       "    .dataframe tbody tr th:only-of-type {\n",
       "        vertical-align: middle;\n",
       "    }\n",
       "\n",
       "    .dataframe tbody tr th {\n",
       "        vertical-align: top;\n",
       "    }\n",
       "\n",
       "    .dataframe thead th {\n",
       "        text-align: right;\n",
       "    }\n",
       "</style>\n",
       "<table border=\"1\" class=\"dataframe\">\n",
       "  <thead>\n",
       "    <tr style=\"text-align: right;\">\n",
       "      <th></th>\n",
       "      <th>Id</th>\n",
       "      <th>Price</th>\n",
       "    </tr>\n",
       "  </thead>\n",
       "  <tbody>\n",
       "    <tr>\n",
       "      <th>0</th>\n",
       "      <td>725</td>\n",
       "      <td>169935.453444</td>\n",
       "    </tr>\n",
       "    <tr>\n",
       "      <th>1</th>\n",
       "      <td>15856</td>\n",
       "      <td>231068.868086</td>\n",
       "    </tr>\n",
       "    <tr>\n",
       "      <th>2</th>\n",
       "      <td>5480</td>\n",
       "      <td>216888.665033</td>\n",
       "    </tr>\n",
       "    <tr>\n",
       "      <th>3</th>\n",
       "      <td>15664</td>\n",
       "      <td>325858.374199</td>\n",
       "    </tr>\n",
       "    <tr>\n",
       "      <th>4</th>\n",
       "      <td>14275</td>\n",
       "      <td>146588.930483</td>\n",
       "    </tr>\n",
       "    <tr>\n",
       "      <th>...</th>\n",
       "      <td>...</td>\n",
       "      <td>...</td>\n",
       "    </tr>\n",
       "    <tr>\n",
       "      <th>4995</th>\n",
       "      <td>8180</td>\n",
       "      <td>238927.417855</td>\n",
       "    </tr>\n",
       "    <tr>\n",
       "      <th>4996</th>\n",
       "      <td>4695</td>\n",
       "      <td>116859.824787</td>\n",
       "    </tr>\n",
       "    <tr>\n",
       "      <th>4997</th>\n",
       "      <td>5783</td>\n",
       "      <td>334507.337411</td>\n",
       "    </tr>\n",
       "    <tr>\n",
       "      <th>4998</th>\n",
       "      <td>4780</td>\n",
       "      <td>206618.006806</td>\n",
       "    </tr>\n",
       "    <tr>\n",
       "      <th>4999</th>\n",
       "      <td>12504</td>\n",
       "      <td>172408.049475</td>\n",
       "    </tr>\n",
       "  </tbody>\n",
       "</table>\n",
       "<p>5000 rows × 2 columns</p>\n",
       "</div>"
      ],
      "text/plain": [
       "         Id          Price\n",
       "0       725  169935.453444\n",
       "1     15856  231068.868086\n",
       "2      5480  216888.665033\n",
       "3     15664  325858.374199\n",
       "4     14275  146588.930483\n",
       "...     ...            ...\n",
       "4995   8180  238927.417855\n",
       "4996   4695  116859.824787\n",
       "4997   5783  334507.337411\n",
       "4998   4780  206618.006806\n",
       "4999  12504  172408.049475\n",
       "\n",
       "[5000 rows x 2 columns]"
      ]
     },
     "execution_count": 31,
     "metadata": {},
     "output_type": "execute_result"
    }
   ],
   "source": [
    "predictions"
   ]
  },
  {
   "cell_type": "code",
   "execution_count": 32,
   "id": "4665c2d9",
   "metadata": {
    "ExecuteTime": {
     "end_time": "2022-12-14T18:57:42.876196Z",
     "start_time": "2022-12-14T18:57:42.845204Z"
    }
   },
   "outputs": [],
   "source": [
    "# Формируем csv файл с предсказаниями\n",
    "predictions.to_csv('AAbramov_predictions.csv', sep=',', header=True, index=False)"
   ]
  }
 ],
 "metadata": {
  "kernelspec": {
   "display_name": "Python 3 (ipykernel)",
   "language": "python",
   "name": "python3"
  },
  "language_info": {
   "codemirror_mode": {
    "name": "ipython",
    "version": 3
   },
   "file_extension": ".py",
   "mimetype": "text/x-python",
   "name": "python",
   "nbconvert_exporter": "python",
   "pygments_lexer": "ipython3",
   "version": "3.9.12"
  },
  "varInspector": {
   "cols": {
    "lenName": 16,
    "lenType": 16,
    "lenVar": 40
   },
   "kernels_config": {
    "python": {
     "delete_cmd_postfix": "",
     "delete_cmd_prefix": "del ",
     "library": "var_list.py",
     "varRefreshCmd": "print(var_dic_list())"
    },
    "r": {
     "delete_cmd_postfix": ") ",
     "delete_cmd_prefix": "rm(",
     "library": "var_list.r",
     "varRefreshCmd": "cat(var_dic_list()) "
    }
   },
   "types_to_exclude": [
    "module",
    "function",
    "builtin_function_or_method",
    "instance",
    "_Feature"
   ],
   "window_display": false
  }
 },
 "nbformat": 4,
 "nbformat_minor": 5
}
