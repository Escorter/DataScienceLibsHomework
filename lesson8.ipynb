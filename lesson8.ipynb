{
 "cells": [
  {
   "cell_type": "markdown",
   "id": "9c8be343",
   "metadata": {},
   "source": [
    "## Обучение без учителя"
   ]
  },
  {
   "cell_type": "markdown",
   "id": "7a69c12e",
   "metadata": {},
   "source": [
    "#### Задание 1\n",
    "Импортируйте библиотеки pandas, numpy и matplotlib.\n",
    "Загрузите \"Boston House Prices dataset\" из встроенных наборов данных библиотеки sklearn.\n",
    "Создайте датафреймы X и y из этих данных. Разбейте эти датафреймы на тренировочные (X_train, y_train) и тестовые (X_test, y_test) с помощью функции train_test_split так, чтобы размер тестовой выборки составлял 20% от всех данных, при этом аргумент random_state должен быть равен 42.\n",
    "Масштабируйте данные с помощью StandardScaler.\n",
    "Постройте модель TSNE на тренировочный данных с параметрами:\n",
    "n_components=2, learning_rate=250, random_state=42.\n",
    "Постройте диаграмму рассеяния на этих данных."
   ]
  },
  {
   "cell_type": "code",
   "execution_count": 5,
   "id": "e62bc243",
   "metadata": {
    "ExecuteTime": {
     "end_time": "2022-12-05T19:31:51.529395Z",
     "start_time": "2022-12-05T19:31:50.678703Z"
    }
   },
   "outputs": [],
   "source": [
    "import pandas as pd\n",
    "import numpy as np\n",
    "import seaborn as sns\n",
    "from sklearn.datasets import load_boston\n",
    "from sklearn.model_selection import train_test_split\n",
    "from sklearn.preprocessing import StandardScaler\n",
    "from sklearn.manifold import TSNE\n",
    "#from sklearn.linear_model import LinearRegression\n",
    "from sklearn.preprocessing import Normalizer\n",
    "from sklearn import metrics\n",
    "import matplotlib.pyplot as plt\n",
    "import warnings\n",
    "\n",
    "warnings.filterwarnings('ignore')"
   ]
  },
  {
   "cell_type": "code",
   "execution_count": 6,
   "id": "873493a1",
   "metadata": {
    "ExecuteTime": {
     "end_time": "2022-12-05T19:31:51.544481Z",
     "start_time": "2022-12-05T19:31:51.529395Z"
    }
   },
   "outputs": [
    {
     "data": {
      "text/plain": [
       "dict_keys(['data', 'target', 'feature_names', 'DESCR', 'filename', 'data_module'])"
      ]
     },
     "execution_count": 6,
     "metadata": {},
     "output_type": "execute_result"
    }
   ],
   "source": [
    "boston = load_boston()\n",
    "boston.keys()"
   ]
  },
  {
   "cell_type": "code",
   "execution_count": 7,
   "id": "8841fe5f",
   "metadata": {
    "ExecuteTime": {
     "end_time": "2022-12-05T19:31:51.574836Z",
     "start_time": "2022-12-05T19:31:51.545454Z"
    }
   },
   "outputs": [
    {
     "data": {
      "text/html": [
       "<div>\n",
       "<style scoped>\n",
       "    .dataframe tbody tr th:only-of-type {\n",
       "        vertical-align: middle;\n",
       "    }\n",
       "\n",
       "    .dataframe tbody tr th {\n",
       "        vertical-align: top;\n",
       "    }\n",
       "\n",
       "    .dataframe thead th {\n",
       "        text-align: right;\n",
       "    }\n",
       "</style>\n",
       "<table border=\"1\" class=\"dataframe\">\n",
       "  <thead>\n",
       "    <tr style=\"text-align: right;\">\n",
       "      <th></th>\n",
       "      <th>CRIM</th>\n",
       "      <th>ZN</th>\n",
       "      <th>INDUS</th>\n",
       "      <th>CHAS</th>\n",
       "      <th>NOX</th>\n",
       "      <th>RM</th>\n",
       "      <th>AGE</th>\n",
       "      <th>DIS</th>\n",
       "      <th>RAD</th>\n",
       "      <th>TAX</th>\n",
       "      <th>PTRATIO</th>\n",
       "      <th>B</th>\n",
       "      <th>LSTAT</th>\n",
       "    </tr>\n",
       "  </thead>\n",
       "  <tbody>\n",
       "    <tr>\n",
       "      <th>0</th>\n",
       "      <td>0.00632</td>\n",
       "      <td>18.0</td>\n",
       "      <td>2.31</td>\n",
       "      <td>0.0</td>\n",
       "      <td>0.538</td>\n",
       "      <td>6.575</td>\n",
       "      <td>65.2</td>\n",
       "      <td>4.0900</td>\n",
       "      <td>1.0</td>\n",
       "      <td>296.0</td>\n",
       "      <td>15.3</td>\n",
       "      <td>396.90</td>\n",
       "      <td>4.98</td>\n",
       "    </tr>\n",
       "    <tr>\n",
       "      <th>1</th>\n",
       "      <td>0.02731</td>\n",
       "      <td>0.0</td>\n",
       "      <td>7.07</td>\n",
       "      <td>0.0</td>\n",
       "      <td>0.469</td>\n",
       "      <td>6.421</td>\n",
       "      <td>78.9</td>\n",
       "      <td>4.9671</td>\n",
       "      <td>2.0</td>\n",
       "      <td>242.0</td>\n",
       "      <td>17.8</td>\n",
       "      <td>396.90</td>\n",
       "      <td>9.14</td>\n",
       "    </tr>\n",
       "    <tr>\n",
       "      <th>2</th>\n",
       "      <td>0.02729</td>\n",
       "      <td>0.0</td>\n",
       "      <td>7.07</td>\n",
       "      <td>0.0</td>\n",
       "      <td>0.469</td>\n",
       "      <td>7.185</td>\n",
       "      <td>61.1</td>\n",
       "      <td>4.9671</td>\n",
       "      <td>2.0</td>\n",
       "      <td>242.0</td>\n",
       "      <td>17.8</td>\n",
       "      <td>392.83</td>\n",
       "      <td>4.03</td>\n",
       "    </tr>\n",
       "  </tbody>\n",
       "</table>\n",
       "</div>"
      ],
      "text/plain": [
       "      CRIM    ZN  INDUS  CHAS    NOX     RM   AGE     DIS  RAD    TAX  \\\n",
       "0  0.00632  18.0   2.31   0.0  0.538  6.575  65.2  4.0900  1.0  296.0   \n",
       "1  0.02731   0.0   7.07   0.0  0.469  6.421  78.9  4.9671  2.0  242.0   \n",
       "2  0.02729   0.0   7.07   0.0  0.469  7.185  61.1  4.9671  2.0  242.0   \n",
       "\n",
       "   PTRATIO       B  LSTAT  \n",
       "0     15.3  396.90   4.98  \n",
       "1     17.8  396.90   9.14  \n",
       "2     17.8  392.83   4.03  "
      ]
     },
     "execution_count": 7,
     "metadata": {},
     "output_type": "execute_result"
    }
   ],
   "source": [
    "X = pd.DataFrame(boston.data, columns=boston.feature_names)\n",
    "X.head(3)"
   ]
  },
  {
   "cell_type": "code",
   "execution_count": 8,
   "id": "fe08068e",
   "metadata": {
    "ExecuteTime": {
     "end_time": "2022-12-05T19:31:51.589815Z",
     "start_time": "2022-12-05T19:31:51.575834Z"
    }
   },
   "outputs": [
    {
     "data": {
      "text/html": [
       "<div>\n",
       "<style scoped>\n",
       "    .dataframe tbody tr th:only-of-type {\n",
       "        vertical-align: middle;\n",
       "    }\n",
       "\n",
       "    .dataframe tbody tr th {\n",
       "        vertical-align: top;\n",
       "    }\n",
       "\n",
       "    .dataframe thead th {\n",
       "        text-align: right;\n",
       "    }\n",
       "</style>\n",
       "<table border=\"1\" class=\"dataframe\">\n",
       "  <thead>\n",
       "    <tr style=\"text-align: right;\">\n",
       "      <th></th>\n",
       "      <th>PRICE</th>\n",
       "    </tr>\n",
       "  </thead>\n",
       "  <tbody>\n",
       "    <tr>\n",
       "      <th>0</th>\n",
       "      <td>24.0</td>\n",
       "    </tr>\n",
       "    <tr>\n",
       "      <th>1</th>\n",
       "      <td>21.6</td>\n",
       "    </tr>\n",
       "    <tr>\n",
       "      <th>2</th>\n",
       "      <td>34.7</td>\n",
       "    </tr>\n",
       "  </tbody>\n",
       "</table>\n",
       "</div>"
      ],
      "text/plain": [
       "   PRICE\n",
       "0   24.0\n",
       "1   21.6\n",
       "2   34.7"
      ]
     },
     "execution_count": 8,
     "metadata": {},
     "output_type": "execute_result"
    }
   ],
   "source": [
    "y = pd.DataFrame(boston.target, columns=['PRICE'])\n",
    "y.head(3)"
   ]
  },
  {
   "cell_type": "code",
   "execution_count": 9,
   "id": "5413e335",
   "metadata": {
    "ExecuteTime": {
     "end_time": "2022-12-05T19:31:51.605838Z",
     "start_time": "2022-12-05T19:31:51.590812Z"
    }
   },
   "outputs": [],
   "source": [
    "X_train, X_test, y_train, y_test = train_test_split(X, y, test_size=0.2, random_state=42)"
   ]
  },
  {
   "cell_type": "code",
   "execution_count": 10,
   "id": "66181c9b",
   "metadata": {
    "ExecuteTime": {
     "end_time": "2022-12-05T19:31:51.621693Z",
     "start_time": "2022-12-05T19:31:51.606856Z"
    }
   },
   "outputs": [],
   "source": [
    "scaler = StandardScaler(with_mean=False)\n",
    "X_train_scaled = pd.DataFrame(scaler.fit_transform(X_train), columns=X_train.columns)\n",
    "X_test_scaled = pd.DataFrame(scaler.transform(X_test), columns=X_test.columns)"
   ]
  },
  {
   "cell_type": "code",
   "execution_count": 11,
   "id": "b4bd2e14",
   "metadata": {
    "ExecuteTime": {
     "end_time": "2022-12-05T19:31:51.637686Z",
     "start_time": "2022-12-05T19:31:51.622662Z"
    }
   },
   "outputs": [],
   "source": [
    "tsne =TSNE(n_components=2, learning_rate=250, random_state=42)"
   ]
  },
  {
   "cell_type": "code",
   "execution_count": 12,
   "id": "0836c611",
   "metadata": {
    "ExecuteTime": {
     "end_time": "2022-12-05T19:31:52.432906Z",
     "start_time": "2022-12-05T19:31:51.638694Z"
    }
   },
   "outputs": [],
   "source": [
    "X_train_tsne = tsne.fit_transform(X_train_scaled)"
   ]
  },
  {
   "cell_type": "code",
   "execution_count": 13,
   "id": "1b75fae0",
   "metadata": {
    "ExecuteTime": {
     "end_time": "2022-12-05T19:31:52.573365Z",
     "start_time": "2022-12-05T19:31:52.432906Z"
    }
   },
   "outputs": [
    {
     "data": {
      "image/png": "[encoded data removed]",
      "text/plain": [
       "<Figure size 432x288 with 1 Axes>"
      ]
     },
     "metadata": {
      "needs_background": "light"
     },
     "output_type": "display_data"
    }
   ],
   "source": [
    "plt.scatter(X_train_tsne[:, 0], X_train_tsne[:, 1])\n",
    "plt.grid()\n",
    "plt.show()"
   ]
  },
  {
   "cell_type": "markdown",
   "id": "ff8ff68c",
   "metadata": {},
   "source": [
    "#### Задание 2\n",
    "С помощью KMeans разбейте данные из тренировочного набора на 3 кластера, используйте все признаки из датафрейма X_train.\n",
    "Параметр max_iter должен быть равен 100, random_state сделайте равным 42.\n",
    "Постройте еще раз диаграмму рассеяния на данных, полученных с помощью TSNE, и раскрасьте точки из разных кластеров разными цветами. Вычислите средние значения price и CRIM в разных кластерах."
   ]
  },
  {
   "cell_type": "code",
   "execution_count": 14,
   "id": "b7823804",
   "metadata": {
    "ExecuteTime": {
     "end_time": "2022-12-05T19:31:52.589436Z",
     "start_time": "2022-12-05T19:31:52.575360Z"
    }
   },
   "outputs": [],
   "source": [
    "from sklearn.cluster import KMeans\n",
    "\n",
    "model = KMeans(n_clusters=3, max_iter=100, random_state=42)"
   ]
  },
  {
   "cell_type": "code",
   "execution_count": 15,
   "id": "31257e63",
   "metadata": {
    "ExecuteTime": {
     "end_time": "2022-12-05T19:31:52.637282Z",
     "start_time": "2022-12-05T19:31:52.590410Z"
    }
   },
   "outputs": [],
   "source": [
    "labels_train = kmeans.fit_predict(X_train_scaled)"
   ]
  },
  {
   "cell_type": "code",
   "execution_count": 16,
   "id": "4610635e",
   "metadata": {
    "ExecuteTime": {
     "end_time": "2022-12-05T19:31:52.748009Z",
     "start_time": "2022-12-05T19:31:52.638280Z"
    }
   },
   "outputs": [
    {
     "data": {
      "image/png": "[encoded data removed]",
      "text/plain": [
       "<Figure size 432x288 with 1 Axes>"
      ]
     },
     "metadata": {
      "needs_background": "light"
     },
     "output_type": "display_data"
    }
   ],
   "source": [
    "plt.scatter(X_train_tsne[:, 0], X_train_tsne[:, 1], c=labels_train)\n",
    "plt.show()"
   ]
  },
  {
   "cell_type": "code",
   "execution_count": 19,
   "id": "7cd6f974",
   "metadata": {
    "ExecuteTime": {
     "end_time": "2022-12-05T19:40:08.626463Z",
     "start_time": "2022-12-05T19:40:08.615491Z"
    }
   },
   "outputs": [
    {
     "data": {
      "text/plain": [
       "PRICE    16.179688\n",
       "dtype: float64"
      ]
     },
     "execution_count": 19,
     "metadata": {},
     "output_type": "execute_result"
    }
   ],
   "source": [
    "y_train[labels_train==0].mean()"
   ]
  },
  {
   "cell_type": "code",
   "execution_count": 28,
   "id": "b686bb3e",
   "metadata": {
    "ExecuteTime": {
     "end_time": "2022-12-05T19:48:04.586976Z",
     "start_time": "2022-12-05T19:48:04.579994Z"
    }
   },
   "outputs": [
    {
     "data": {
      "text/plain": [
       "PRICE    24.994737\n",
       "dtype: float64"
      ]
     },
     "execution_count": 28,
     "metadata": {},
     "output_type": "execute_result"
    }
   ],
   "source": [
    "y_train[labels_train==1].mean()"
   ]
  },
  {
   "cell_type": "code",
   "execution_count": 23,
   "id": "93957938",
   "metadata": {
    "ExecuteTime": {
     "end_time": "2022-12-05T19:45:41.263145Z",
     "start_time": "2022-12-05T19:45:41.246215Z"
    }
   },
   "outputs": [
    {
     "data": {
      "text/plain": [
       "10.715219062500003"
      ]
     },
     "execution_count": 23,
     "metadata": {},
     "output_type": "execute_result"
    }
   ],
   "source": [
    "X_train['CRIM'][labels_train==0].mean()"
   ]
  },
  {
   "cell_type": "code",
   "execution_count": 34,
   "id": "d5105594",
   "metadata": {
    "ExecuteTime": {
     "end_time": "2022-12-05T19:54:52.194172Z",
     "start_time": "2022-12-05T19:54:52.179171Z"
    }
   },
   "outputs": [
    {
     "data": {
      "text/plain": [
       "0.4221666842105262"
      ]
     },
     "execution_count": 34,
     "metadata": {},
     "output_type": "execute_result"
    }
   ],
   "source": [
    "X_train['CRIM'][labels_train==1].mean()"
   ]
  },
  {
   "cell_type": "code",
   "execution_count": 37,
   "id": "7ce86db6",
   "metadata": {
    "ExecuteTime": {
     "end_time": "2022-12-05T20:12:52.062573Z",
     "start_time": "2022-12-05T20:12:52.050195Z"
    }
   },
   "outputs": [
    {
     "data": {
      "text/plain": [
       "0.07356558139534886"
      ]
     },
     "execution_count": 37,
     "metadata": {},
     "output_type": "execute_result"
    }
   ],
   "source": [
    "X_train['CRIM'][labels_train==2].mean()"
   ]
  },
  {
   "cell_type": "markdown",
   "id": "e41a16be",
   "metadata": {},
   "source": [
    "#### *Задание 3\n",
    "Примените модель KMeans, построенную в предыдущем задании, к данным из тестового набора.\n",
    "Вычислите средние значения price и CRIM в разных кластерах на тестовых данных."
   ]
  },
  {
   "cell_type": "code",
   "execution_count": 38,
   "id": "9261ca62",
   "metadata": {
    "ExecuteTime": {
     "end_time": "2022-12-05T20:17:17.798670Z",
     "start_time": "2022-12-05T20:17:17.760796Z"
    }
   },
   "outputs": [],
   "source": [
    "labels_train = kmeans.fit_predict(X_test_scaled)"
   ]
  },
  {
   "cell_type": "code",
   "execution_count": 40,
   "id": "b6e2bb1d",
   "metadata": {
    "ExecuteTime": {
     "end_time": "2022-12-05T20:19:45.264508Z",
     "start_time": "2022-12-05T20:19:45.256529Z"
    }
   },
   "outputs": [
    {
     "data": {
      "text/plain": [
       "PRICE    33.871429\n",
       "dtype: float64"
      ]
     },
     "execution_count": 40,
     "metadata": {},
     "output_type": "execute_result"
    }
   ],
   "source": [
    "y_test[labels_train==0].mean()"
   ]
  },
  {
   "cell_type": "code",
   "execution_count": 41,
   "id": "9110f92f",
   "metadata": {
    "ExecuteTime": {
     "end_time": "2022-12-05T20:20:01.830750Z",
     "start_time": "2022-12-05T20:20:01.816811Z"
    }
   },
   "outputs": [
    {
     "data": {
      "text/plain": [
       "PRICE    16.437143\n",
       "dtype: float64"
      ]
     },
     "execution_count": 41,
     "metadata": {},
     "output_type": "execute_result"
    }
   ],
   "source": [
    "y_test[labels_train==1].mean()"
   ]
  },
  {
   "cell_type": "code",
   "execution_count": 42,
   "id": "c927f568",
   "metadata": {
    "ExecuteTime": {
     "end_time": "2022-12-05T20:20:30.091487Z",
     "start_time": "2022-12-05T20:20:30.072562Z"
    }
   },
   "outputs": [
    {
     "data": {
      "text/plain": [
       "PRICE    21.55283\n",
       "dtype: float64"
      ]
     },
     "execution_count": 42,
     "metadata": {},
     "output_type": "execute_result"
    }
   ],
   "source": [
    "y_test[labels_train==2].mean()"
   ]
  },
  {
   "cell_type": "code",
   "execution_count": 44,
   "id": "61ea771f",
   "metadata": {
    "ExecuteTime": {
     "end_time": "2022-12-05T20:21:20.859391Z",
     "start_time": "2022-12-05T20:21:20.848416Z"
    }
   },
   "outputs": [
    {
     "data": {
      "text/plain": [
       "0.08618571428571427"
      ]
     },
     "execution_count": 44,
     "metadata": {},
     "output_type": "execute_result"
    }
   ],
   "source": [
    "X_test['CRIM'][labels_train==0].mean()"
   ]
  },
  {
   "cell_type": "code",
   "execution_count": 45,
   "id": "04ef5457",
   "metadata": {
    "ExecuteTime": {
     "end_time": "2022-12-05T20:21:39.024232Z",
     "start_time": "2022-12-05T20:21:39.017276Z"
    }
   },
   "outputs": [
    {
     "data": {
      "text/plain": [
       "10.165531142857143"
      ]
     },
     "execution_count": 45,
     "metadata": {},
     "output_type": "execute_result"
    }
   ],
   "source": [
    "X_test['CRIM'][labels_train==1].mean()"
   ]
  },
  {
   "cell_type": "code",
   "execution_count": 46,
   "id": "aa15e673",
   "metadata": {
    "ExecuteTime": {
     "end_time": "2022-12-05T20:21:47.447686Z",
     "start_time": "2022-12-05T20:21:47.429735Z"
    }
   },
   "outputs": [
    {
     "data": {
      "text/plain": [
       "0.25200716981132076"
      ]
     },
     "execution_count": 46,
     "metadata": {},
     "output_type": "execute_result"
    }
   ],
   "source": [
    "X_test['CRIM'][labels_train==2].mean()"
   ]
  }
 ],
 "metadata": {
  "kernelspec": {
   "display_name": "Python 3 (ipykernel)",
   "language": "python",
   "name": "python3"
  },
  "language_info": {
   "codemirror_mode": {
    "name": "ipython",
    "version": 3
   },
   "file_extension": ".py",
   "mimetype": "text/x-python",
   "name": "python",
   "nbconvert_exporter": "python",
   "pygments_lexer": "ipython3",
   "version": "3.9.12"
  },
  "varInspector": {
   "cols": {
    "lenName": 16,
    "lenType": 16,
    "lenVar": 40
   },
   "kernels_config": {
    "python": {
     "delete_cmd_postfix": "",
     "delete_cmd_prefix": "del ",
     "library": "var_list.py",
     "varRefreshCmd": "print(var_dic_list())"
    },
    "r": {
     "delete_cmd_postfix": ") ",
     "delete_cmd_prefix": "rm(",
     "library": "var_list.r",
     "varRefreshCmd": "cat(var_dic_list()) "
    }
   },
   "types_to_exclude": [
    "module",
    "function",
    "builtin_function_or_method",
    "instance",
    "_Feature"
   ],
   "window_display": false
  }
 },
 "nbformat": 4,
 "nbformat_minor": 5
}
